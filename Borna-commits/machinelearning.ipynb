{
 "nbformat": 4,
 "nbformat_minor": 2,
 "metadata": {
  "language_info": {
   "name": "python",
   "codemirror_mode": {
    "name": "ipython",
    "version": 3
   }
  },
  "orig_nbformat": 2,
  "file_extension": ".py",
  "mimetype": "text/x-python",
  "name": "python",
  "npconvert_exporter": "python",
  "pygments_lexer": "ipython3",
  "version": 3
 },
 "cells": [
  {
   "cell_type": "code",
   "execution_count": 28,
   "metadata": {},
   "outputs": [],
   "source": [
    "# Initial imports\n",
    "import pandas as pd\n",
    "import numpy as np\n",
    "from sklearn.cluster import KMeans\n",
    "import plotly.express as px\n",
    "import hvplot.pandas\n",
    "from path import Path\n",
    "import matplotlib.pyplot as plt\n",
    "from sklearn.metrics import confusion_matrix, accuracy_score, classification_report"
   ]
  },
  {
   "cell_type": "code",
   "execution_count": 31,
   "metadata": {},
   "outputs": [
    {
     "data": {
      "text/html": "<div>\n<style scoped>\n    .dataframe tbody tr th:only-of-type {\n        vertical-align: middle;\n    }\n\n    .dataframe tbody tr th {\n        vertical-align: top;\n    }\n\n    .dataframe thead th {\n        text-align: right;\n    }\n</style>\n<table border=\"1\" class=\"dataframe\">\n  <thead>\n    <tr style=\"text-align: right;\">\n      <th></th>\n      <th>1</th>\n      <th>2</th>\n      <th>3</th>\n      <th>4</th>\n      <th>5</th>\n      <th>6</th>\n      <th>7</th>\n      <th>8</th>\n      <th>9</th>\n      <th>10</th>\n      <th>...</th>\n      <th>167</th>\n      <th>168</th>\n      <th>169</th>\n      <th>170</th>\n      <th>171</th>\n      <th>172</th>\n      <th>173</th>\n      <th>174</th>\n      <th>175</th>\n      <th>acquired</th>\n    </tr>\n    <tr>\n      <th>Tickers</th>\n      <th></th>\n      <th></th>\n      <th></th>\n      <th></th>\n      <th></th>\n      <th></th>\n      <th></th>\n      <th></th>\n      <th></th>\n      <th></th>\n      <th></th>\n      <th></th>\n      <th></th>\n      <th></th>\n      <th></th>\n      <th></th>\n      <th></th>\n      <th></th>\n      <th></th>\n      <th></th>\n      <th></th>\n    </tr>\n  </thead>\n  <tbody>\n    <tr>\n      <td>RTN</td>\n      <td>0.002554</td>\n      <td>-0.005143</td>\n      <td>0.005991</td>\n      <td>-0.007012</td>\n      <td>0.000339</td>\n      <td>-0.010782</td>\n      <td>-0.034166</td>\n      <td>-0.033451</td>\n      <td>0.003665</td>\n      <td>0.002974</td>\n      <td>...</td>\n      <td>0.009742</td>\n      <td>0.016232</td>\n      <td>0.018262</td>\n      <td>0.007075</td>\n      <td>0.012471</td>\n      <td>0.000000</td>\n      <td>0.000000</td>\n      <td>0.000000</td>\n      <td>0.000000</td>\n      <td>1</td>\n    </tr>\n    <tr>\n      <td>CELG</td>\n      <td>-0.009774</td>\n      <td>-0.044747</td>\n      <td>0.009529</td>\n      <td>-0.011714</td>\n      <td>-0.017261</td>\n      <td>0.017447</td>\n      <td>-0.026700</td>\n      <td>-0.017027</td>\n      <td>-0.003970</td>\n      <td>-0.005072</td>\n      <td>...</td>\n      <td>-0.028070</td>\n      <td>0.055565</td>\n      <td>0.004960</td>\n      <td>-0.006050</td>\n      <td>0.026590</td>\n      <td>0.039788</td>\n      <td>0.206933</td>\n      <td>0.000000</td>\n      <td>0.000000</td>\n      <td>1</td>\n    </tr>\n    <tr>\n      <td>AGN</td>\n      <td>0.016011</td>\n      <td>-0.011047</td>\n      <td>0.003388</td>\n      <td>-0.009972</td>\n      <td>0.000053</td>\n      <td>-0.046576</td>\n      <td>0.007713</td>\n      <td>-0.017139</td>\n      <td>-0.019187</td>\n      <td>-0.075547</td>\n      <td>...</td>\n      <td>0.042426</td>\n      <td>0.062334</td>\n      <td>0.020755</td>\n      <td>-0.000076</td>\n      <td>-0.009479</td>\n      <td>0.253608</td>\n      <td>0.000000</td>\n      <td>0.000000</td>\n      <td>0.000000</td>\n      <td>1</td>\n    </tr>\n    <tr>\n      <td>DD</td>\n      <td>-0.005447</td>\n      <td>-0.000171</td>\n      <td>-0.008901</td>\n      <td>-0.008290</td>\n      <td>-0.003483</td>\n      <td>0.006641</td>\n      <td>0.007986</td>\n      <td>-0.004478</td>\n      <td>-0.006228</td>\n      <td>0.006093</td>\n      <td>...</td>\n      <td>-0.003087</td>\n      <td>-0.003561</td>\n      <td>0.002953</td>\n      <td>0.002014</td>\n      <td>-0.006958</td>\n      <td>0.010589</td>\n      <td>0.026965</td>\n      <td>0.000000</td>\n      <td>0.000000</td>\n      <td>1</td>\n    </tr>\n    <tr>\n      <td>MDLZ</td>\n      <td>0.008600</td>\n      <td>0.010336</td>\n      <td>-0.004348</td>\n      <td>0.001798</td>\n      <td>-0.000256</td>\n      <td>-0.005899</td>\n      <td>0.006192</td>\n      <td>0.005128</td>\n      <td>-0.005612</td>\n      <td>-0.002309</td>\n      <td>...</td>\n      <td>0.000000</td>\n      <td>0.000000</td>\n      <td>0.000000</td>\n      <td>0.000000</td>\n      <td>0.000000</td>\n      <td>0.000000</td>\n      <td>0.000000</td>\n      <td>0.000000</td>\n      <td>0.000000</td>\n      <td>1</td>\n    </tr>\n    <tr>\n      <td>ACM</td>\n      <td>-0.002633</td>\n      <td>0.002970</td>\n      <td>-0.002303</td>\n      <td>0.000000</td>\n      <td>0.005937</td>\n      <td>-0.007869</td>\n      <td>-0.007931</td>\n      <td>0.001999</td>\n      <td>-0.023936</td>\n      <td>0.003747</td>\n      <td>...</td>\n      <td>0.014420</td>\n      <td>-0.005212</td>\n      <td>0.005716</td>\n      <td>0.004973</td>\n      <td>0.013195</td>\n      <td>0.002558</td>\n      <td>-0.020181</td>\n      <td>0.030066</td>\n      <td>-0.007355</td>\n      <td>0</td>\n    </tr>\n    <tr>\n      <td>AA</td>\n      <td>0.033430</td>\n      <td>0.018987</td>\n      <td>-0.037612</td>\n      <td>-0.001793</td>\n      <td>0.028736</td>\n      <td>-0.000698</td>\n      <td>0.005940</td>\n      <td>0.021535</td>\n      <td>-0.043863</td>\n      <td>-0.003556</td>\n      <td>...</td>\n      <td>-0.013968</td>\n      <td>-0.030544</td>\n      <td>0.030137</td>\n      <td>-0.001330</td>\n      <td>-0.013759</td>\n      <td>-0.001800</td>\n      <td>-0.043282</td>\n      <td>-0.010839</td>\n      <td>-0.004764</td>\n      <td>0</td>\n    </tr>\n    <tr>\n      <td>APLE</td>\n      <td>0.001218</td>\n      <td>0.000000</td>\n      <td>0.002433</td>\n      <td>-0.001820</td>\n      <td>-0.001824</td>\n      <td>-0.003045</td>\n      <td>-0.002443</td>\n      <td>0.004287</td>\n      <td>-0.017073</td>\n      <td>-0.006824</td>\n      <td>...</td>\n      <td>0.003007</td>\n      <td>-0.007194</td>\n      <td>-0.009058</td>\n      <td>-0.002438</td>\n      <td>0.000000</td>\n      <td>-0.014050</td>\n      <td>-0.006196</td>\n      <td>0.008105</td>\n      <td>-0.005566</td>\n      <td>0</td>\n    </tr>\n    <tr>\n      <td>BCS</td>\n      <td>0.009490</td>\n      <td>0.017626</td>\n      <td>0.004619</td>\n      <td>0.008046</td>\n      <td>0.000000</td>\n      <td>0.007982</td>\n      <td>-0.027149</td>\n      <td>-0.026744</td>\n      <td>-0.023895</td>\n      <td>-0.004896</td>\n      <td>...</td>\n      <td>-0.001149</td>\n      <td>-0.009206</td>\n      <td>0.004646</td>\n      <td>-0.015029</td>\n      <td>0.031690</td>\n      <td>0.001138</td>\n      <td>-0.010227</td>\n      <td>0.002296</td>\n      <td>0.005727</td>\n      <td>0</td>\n    </tr>\n    <tr>\n      <td>BRK.B</td>\n      <td>0.002029</td>\n      <td>0.007704</td>\n      <td>-0.003332</td>\n      <td>0.004573</td>\n      <td>0.011600</td>\n      <td>-0.007403</td>\n      <td>-0.009164</td>\n      <td>0.005707</td>\n      <td>-0.018980</td>\n      <td>-0.005535</td>\n      <td>...</td>\n      <td>0.013304</td>\n      <td>0.005071</td>\n      <td>0.003333</td>\n      <td>-0.006420</td>\n      <td>-0.002079</td>\n      <td>0.000181</td>\n      <td>-0.005070</td>\n      <td>-0.001866</td>\n      <td>0.001732</td>\n      <td>0</td>\n    </tr>\n  </tbody>\n</table>\n<p>10 rows × 176 columns</p>\n</div>",
      "text/plain": "                1         2         3         4         5         6         7  \\\nTickers                                                                         \nRTN      0.002554 -0.005143  0.005991 -0.007012  0.000339 -0.010782 -0.034166   \nCELG    -0.009774 -0.044747  0.009529 -0.011714 -0.017261  0.017447 -0.026700   \nAGN      0.016011 -0.011047  0.003388 -0.009972  0.000053 -0.046576  0.007713   \nDD      -0.005447 -0.000171 -0.008901 -0.008290 -0.003483  0.006641  0.007986   \nMDLZ     0.008600  0.010336 -0.004348  0.001798 -0.000256 -0.005899  0.006192   \nACM     -0.002633  0.002970 -0.002303  0.000000  0.005937 -0.007869 -0.007931   \nAA       0.033430  0.018987 -0.037612 -0.001793  0.028736 -0.000698  0.005940   \nAPLE     0.001218  0.000000  0.002433 -0.001820 -0.001824 -0.003045 -0.002443   \nBCS      0.009490  0.017626  0.004619  0.008046  0.000000  0.007982 -0.027149   \nBRK.B    0.002029  0.007704 -0.003332  0.004573  0.011600 -0.007403 -0.009164   \n\n                8         9        10  ...       167       168       169  \\\nTickers                                ...                                 \nRTN     -0.033451  0.003665  0.002974  ...  0.009742  0.016232  0.018262   \nCELG    -0.017027 -0.003970 -0.005072  ... -0.028070  0.055565  0.004960   \nAGN     -0.017139 -0.019187 -0.075547  ...  0.042426  0.062334  0.020755   \nDD      -0.004478 -0.006228  0.006093  ... -0.003087 -0.003561  0.002953   \nMDLZ     0.005128 -0.005612 -0.002309  ...  0.000000  0.000000  0.000000   \nACM      0.001999 -0.023936  0.003747  ...  0.014420 -0.005212  0.005716   \nAA       0.021535 -0.043863 -0.003556  ... -0.013968 -0.030544  0.030137   \nAPLE     0.004287 -0.017073 -0.006824  ...  0.003007 -0.007194 -0.009058   \nBCS     -0.026744 -0.023895 -0.004896  ... -0.001149 -0.009206  0.004646   \nBRK.B    0.005707 -0.018980 -0.005535  ...  0.013304  0.005071  0.003333   \n\n              170       171       172       173       174       175  acquired  \nTickers                                                                        \nRTN      0.007075  0.012471  0.000000  0.000000  0.000000  0.000000         1  \nCELG    -0.006050  0.026590  0.039788  0.206933  0.000000  0.000000         1  \nAGN     -0.000076 -0.009479  0.253608  0.000000  0.000000  0.000000         1  \nDD       0.002014 -0.006958  0.010589  0.026965  0.000000  0.000000         1  \nMDLZ     0.000000  0.000000  0.000000  0.000000  0.000000  0.000000         1  \nACM      0.004973  0.013195  0.002558 -0.020181  0.030066 -0.007355         0  \nAA      -0.001330 -0.013759 -0.001800 -0.043282 -0.010839 -0.004764         0  \nAPLE    -0.002438  0.000000 -0.014050 -0.006196  0.008105 -0.005566         0  \nBCS     -0.015029  0.031690  0.001138 -0.010227  0.002296  0.005727         0  \nBRK.B   -0.006420 -0.002079  0.000181 -0.005070 -0.001866  0.001732         0  \n\n[10 rows x 176 columns]"
     },
     "execution_count": 31,
     "metadata": {},
     "output_type": "execute_result"
    }
   ],
   "source": [
    "# Loading data\n",
    "file_path = Path(\"/Users/bornavahabzadeh/Desktop/Project-2/data/main_df.csv\")\n",
    "df = pd.read_csv(file_path, index_col = \"Tickers\")\n",
    "#df.drop([\"MDLZ\", \"LEVI\"])\n",
    "df.head(10)"
   ]
  },
  {
   "cell_type": "code",
   "execution_count": 15,
   "metadata": {},
   "outputs": [],
   "source": [
    "# separate features from target\n",
    "y = df[\"acquired\"]\n",
    "X = df.drop(columns=\"acquired\")"
   ]
  },
  {
   "cell_type": "code",
   "execution_count": 12,
   "metadata": {},
   "outputs": [
    {
     "data": {
      "text/html": "<div>\n<style scoped>\n    .dataframe tbody tr th:only-of-type {\n        vertical-align: middle;\n    }\n\n    .dataframe tbody tr th {\n        vertical-align: top;\n    }\n\n    .dataframe thead th {\n        text-align: right;\n    }\n</style>\n<table border=\"1\" class=\"dataframe\">\n  <thead>\n    <tr style=\"text-align: right;\">\n      <th></th>\n      <th>1</th>\n      <th>2</th>\n      <th>3</th>\n      <th>4</th>\n      <th>5</th>\n      <th>6</th>\n      <th>7</th>\n      <th>8</th>\n      <th>9</th>\n      <th>10</th>\n      <th>...</th>\n      <th>167</th>\n      <th>168</th>\n      <th>169</th>\n      <th>170</th>\n      <th>171</th>\n      <th>172</th>\n      <th>173</th>\n      <th>174</th>\n      <th>175</th>\n      <th>acquired</th>\n    </tr>\n    <tr>\n      <th>Tickers</th>\n      <th></th>\n      <th></th>\n      <th></th>\n      <th></th>\n      <th></th>\n      <th></th>\n      <th></th>\n      <th></th>\n      <th></th>\n      <th></th>\n      <th></th>\n      <th></th>\n      <th></th>\n      <th></th>\n      <th></th>\n      <th></th>\n      <th></th>\n      <th></th>\n      <th></th>\n      <th></th>\n      <th></th>\n    </tr>\n  </thead>\n  <tbody>\n    <tr>\n      <td>RTN</td>\n      <td>0.002554</td>\n      <td>-0.005143</td>\n      <td>0.005991</td>\n      <td>-0.007012</td>\n      <td>0.000339</td>\n      <td>-0.010782</td>\n      <td>-0.034166</td>\n      <td>-0.033451</td>\n      <td>0.003665</td>\n      <td>0.002974</td>\n      <td>...</td>\n      <td>0.009742</td>\n      <td>0.016232</td>\n      <td>0.018262</td>\n      <td>0.007075</td>\n      <td>0.012471</td>\n      <td>NaN</td>\n      <td>NaN</td>\n      <td>NaN</td>\n      <td>NaN</td>\n      <td>1</td>\n    </tr>\n    <tr>\n      <td>CELG</td>\n      <td>-0.009774</td>\n      <td>-0.044747</td>\n      <td>0.009529</td>\n      <td>-0.011714</td>\n      <td>-0.017261</td>\n      <td>0.017447</td>\n      <td>-0.026700</td>\n      <td>-0.017027</td>\n      <td>-0.003970</td>\n      <td>-0.005072</td>\n      <td>...</td>\n      <td>-0.028070</td>\n      <td>0.055565</td>\n      <td>0.004960</td>\n      <td>-0.006050</td>\n      <td>0.026590</td>\n      <td>0.039788</td>\n      <td>0.206933</td>\n      <td>NaN</td>\n      <td>NaN</td>\n      <td>1</td>\n    </tr>\n    <tr>\n      <td>AGN</td>\n      <td>0.016011</td>\n      <td>-0.011047</td>\n      <td>0.003388</td>\n      <td>-0.009972</td>\n      <td>0.000053</td>\n      <td>-0.046576</td>\n      <td>0.007713</td>\n      <td>-0.017139</td>\n      <td>-0.019187</td>\n      <td>-0.075547</td>\n      <td>...</td>\n      <td>0.042426</td>\n      <td>0.062334</td>\n      <td>0.020755</td>\n      <td>-0.000076</td>\n      <td>-0.009479</td>\n      <td>0.253608</td>\n      <td>NaN</td>\n      <td>NaN</td>\n      <td>NaN</td>\n      <td>1</td>\n    </tr>\n    <tr>\n      <td>DD</td>\n      <td>-0.005447</td>\n      <td>-0.000171</td>\n      <td>-0.008901</td>\n      <td>-0.008290</td>\n      <td>-0.003483</td>\n      <td>0.006641</td>\n      <td>0.007986</td>\n      <td>-0.004478</td>\n      <td>-0.006228</td>\n      <td>0.006093</td>\n      <td>...</td>\n      <td>-0.003087</td>\n      <td>-0.003561</td>\n      <td>0.002953</td>\n      <td>0.002014</td>\n      <td>-0.006958</td>\n      <td>0.010589</td>\n      <td>0.026965</td>\n      <td>NaN</td>\n      <td>NaN</td>\n      <td>1</td>\n    </tr>\n    <tr>\n      <td>MDLZ</td>\n      <td>0.008600</td>\n      <td>0.010336</td>\n      <td>-0.004348</td>\n      <td>0.001798</td>\n      <td>-0.000256</td>\n      <td>-0.005899</td>\n      <td>0.006192</td>\n      <td>0.005128</td>\n      <td>-0.005612</td>\n      <td>-0.002309</td>\n      <td>...</td>\n      <td>NaN</td>\n      <td>NaN</td>\n      <td>NaN</td>\n      <td>NaN</td>\n      <td>NaN</td>\n      <td>NaN</td>\n      <td>NaN</td>\n      <td>NaN</td>\n      <td>NaN</td>\n      <td>1</td>\n    </tr>\n  </tbody>\n</table>\n<p>5 rows × 176 columns</p>\n</div>",
      "text/plain": "                1         2         3         4         5         6         7  \\\nTickers                                                                         \nRTN      0.002554 -0.005143  0.005991 -0.007012  0.000339 -0.010782 -0.034166   \nCELG    -0.009774 -0.044747  0.009529 -0.011714 -0.017261  0.017447 -0.026700   \nAGN      0.016011 -0.011047  0.003388 -0.009972  0.000053 -0.046576  0.007713   \nDD      -0.005447 -0.000171 -0.008901 -0.008290 -0.003483  0.006641  0.007986   \nMDLZ     0.008600  0.010336 -0.004348  0.001798 -0.000256 -0.005899  0.006192   \n\n                8         9        10  ...       167       168       169  \\\nTickers                                ...                                 \nRTN     -0.033451  0.003665  0.002974  ...  0.009742  0.016232  0.018262   \nCELG    -0.017027 -0.003970 -0.005072  ... -0.028070  0.055565  0.004960   \nAGN     -0.017139 -0.019187 -0.075547  ...  0.042426  0.062334  0.020755   \nDD      -0.004478 -0.006228  0.006093  ... -0.003087 -0.003561  0.002953   \nMDLZ     0.005128 -0.005612 -0.002309  ...       NaN       NaN       NaN   \n\n              170       171       172       173  174  175  acquired  \nTickers                                                              \nRTN      0.007075  0.012471       NaN       NaN  NaN  NaN         1  \nCELG    -0.006050  0.026590  0.039788  0.206933  NaN  NaN         1  \nAGN     -0.000076 -0.009479  0.253608       NaN  NaN  NaN         1  \nDD       0.002014 -0.006958  0.010589  0.026965  NaN  NaN         1  \nMDLZ          NaN       NaN       NaN       NaN  NaN  NaN         1  \n\n[5 rows x 176 columns]"
     },
     "execution_count": 12,
     "metadata": {},
     "output_type": "execute_result"
    }
   ],
   "source": []
  },
  {
   "cell_type": "code",
   "execution_count": 16,
   "metadata": {},
   "outputs": [
    {
     "data": {
      "text/plain": "(33, 175)"
     },
     "execution_count": 16,
     "metadata": {},
     "output_type": "execute_result"
    }
   ],
   "source": [
    "## Split our data into training and testing\n",
    "from sklearn.model_selection import train_test_split\n",
    "\n",
    "X_train, X_test, y_train, y_test = train_test_split(X, y, random_state=1, stratify=y)\n",
    "X_train.shape"
   ]
  },
  {
   "cell_type": "code",
   "execution_count": 17,
   "metadata": {},
   "outputs": [
    {
     "data": {
      "text/plain": "LogisticRegression(C=1.0, class_weight=None, dual=False, fit_intercept=True,\n                   intercept_scaling=1, l1_ratio=None, max_iter=200,\n                   multi_class='warn', n_jobs=None, penalty='l2',\n                   random_state=1, solver='lbfgs', tol=0.0001, verbose=0,\n                   warm_start=False)"
     },
     "execution_count": 17,
     "metadata": {},
     "output_type": "execute_result"
    }
   ],
   "source": [
    "# Create a Logistic Regression Model\n",
    "\n",
    "from sklearn.linear_model import LogisticRegression\n",
    "classifier = LogisticRegression(solver='lbfgs', random_state=1, max_iter = 200)\n",
    "classifier"
   ]
  },
  {
   "cell_type": "code",
   "execution_count": 18,
   "metadata": {},
   "outputs": [
    {
     "data": {
      "text/plain": "LogisticRegression(C=1.0, class_weight=None, dual=False, fit_intercept=True,\n                   intercept_scaling=1, l1_ratio=None, max_iter=200,\n                   multi_class='warn', n_jobs=None, penalty='l2',\n                   random_state=1, solver='lbfgs', tol=0.0001, verbose=0,\n                   warm_start=False)"
     },
     "execution_count": 18,
     "metadata": {},
     "output_type": "execute_result"
    }
   ],
   "source": [
    "# Train the data\n",
    "classifier.fit(X_train, y_train)"
   ]
  },
  {
   "cell_type": "code",
   "execution_count": 19,
   "metadata": {},
   "outputs": [
    {
     "name": "stdout",
     "output_type": "stream",
     "text": "Training Data Score: 0.8787878787878788\nTesting Data Score: 0.9166666666666666\n"
    }
   ],
   "source": [
    "# Score the model\n",
    "print(f\"Training Data Score: {classifier.score(X_train, y_train)}\")\n",
    "print(f\"Testing Data Score: {classifier.score(X_test, y_test)}\")"
   ]
  },
  {
   "cell_type": "code",
   "execution_count": 20,
   "metadata": {},
   "outputs": [
    {
     "data": {
      "text/html": "<div>\n<style scoped>\n    .dataframe tbody tr th:only-of-type {\n        vertical-align: middle;\n    }\n\n    .dataframe tbody tr th {\n        vertical-align: top;\n    }\n\n    .dataframe thead th {\n        text-align: right;\n    }\n</style>\n<table border=\"1\" class=\"dataframe\">\n  <thead>\n    <tr style=\"text-align: right;\">\n      <th></th>\n      <th>Prediction</th>\n      <th>Actual</th>\n    </tr>\n    <tr>\n      <th>Tickers</th>\n      <th></th>\n      <th></th>\n    </tr>\n  </thead>\n  <tbody>\n    <tr>\n      <td>BHP</td>\n      <td>0</td>\n      <td>0</td>\n    </tr>\n    <tr>\n      <td>GM</td>\n      <td>0</td>\n      <td>0</td>\n    </tr>\n    <tr>\n      <td>V</td>\n      <td>0</td>\n      <td>0</td>\n    </tr>\n    <tr>\n      <td>KO</td>\n      <td>0</td>\n      <td>0</td>\n    </tr>\n    <tr>\n      <td>RTN</td>\n      <td>0</td>\n      <td>1</td>\n    </tr>\n    <tr>\n      <td>AA</td>\n      <td>0</td>\n      <td>0</td>\n    </tr>\n    <tr>\n      <td>CAT</td>\n      <td>0</td>\n      <td>0</td>\n    </tr>\n    <tr>\n      <td>GS</td>\n      <td>0</td>\n      <td>0</td>\n    </tr>\n    <tr>\n      <td>WMT</td>\n      <td>0</td>\n      <td>0</td>\n    </tr>\n    <tr>\n      <td>BP</td>\n      <td>0</td>\n      <td>0</td>\n    </tr>\n    <tr>\n      <td>CHGG</td>\n      <td>0</td>\n      <td>0</td>\n    </tr>\n    <tr>\n      <td>ACM</td>\n      <td>0</td>\n      <td>0</td>\n    </tr>\n  </tbody>\n</table>\n</div>",
      "text/plain": "         Prediction  Actual\nTickers                    \nBHP               0       0\nGM                0       0\nV                 0       0\nKO                0       0\nRTN               0       1\nAA                0       0\nCAT               0       0\nGS                0       0\nWMT               0       0\nBP                0       0\nCHGG              0       0\nACM               0       0"
     },
     "execution_count": 20,
     "metadata": {},
     "output_type": "execute_result"
    }
   ],
   "source": [
    "# Predict outcomes for test data set\n",
    "predictions = classifier.predict(X_test)\n",
    "pd.DataFrame({\"Prediction\": predictions, \"Actual\": y_test})"
   ]
  },
  {
   "cell_type": "code",
   "execution_count": 25,
   "metadata": {},
   "outputs": [],
   "source": [
    "# Generate a new data point (the red circle)\n",
    "#import numpy as np\n",
    "#df = np.array([[-2, 6]])\n",
    "#plt.scatter(X[:, 0], X[:, 1], c=y)\n",
    "#plt.scatter(new_data[0, 0], new_data[0, 1], c=\"r\", marker=\"o\", s=100)"
   ]
  },
  {
   "cell_type": "code",
   "execution_count": 26,
   "metadata": {},
   "outputs": [],
   "source": [
    "# Predict the class (purple or yellow) of the new data point\n",
    "#predictions = classifier.predict(df)\n",
    "#print(\"Classes are either 0 (purple) or 1 (yellow)\")\n",
    "#print(f\"The new point was classified as: {predictions}\")"
   ]
  },
  {
   "cell_type": "code",
   "execution_count": 29,
   "metadata": {},
   "outputs": [],
   "source": [
    "# Calculating the confusion matrix\n",
    "cm = confusion_matrix(y_test, predictions)\n",
    "cm_df = pd.DataFrame(\n",
    "    cm, index=[\"Actual 0\", \"Actual 1\"], columns=[\"Predicted 0\", \"Predicted 1\"]\n",
    ")\n",
    "\n",
    "# Calculating the accuracy score\n",
    "acc_score = accuracy_score(y_test, predictions)"
   ]
  },
  {
   "cell_type": "code",
   "execution_count": 30,
   "metadata": {},
   "outputs": [
    {
     "name": "stdout",
     "output_type": "stream",
     "text": "Confusion Matrix\nAccuracy Score : 0.9166666666666666\nClassification Report\n              precision    recall  f1-score   support\n\n           0       0.92      1.00      0.96        11\n           1       0.00      0.00      0.00         1\n\n    accuracy                           0.92        12\n   macro avg       0.46      0.50      0.48        12\nweighted avg       0.84      0.92      0.88        12\n\n/Users/bornavahabzadeh/opt/anaconda3/lib/python3.7/site-packages/sklearn/metrics/classification.py:1437: UndefinedMetricWarning:\n\nPrecision and F-score are ill-defined and being set to 0.0 in labels with no predicted samples.\n\n"
    },
    {
     "data": {
      "text/html": "<div>\n<style scoped>\n    .dataframe tbody tr th:only-of-type {\n        vertical-align: middle;\n    }\n\n    .dataframe tbody tr th {\n        vertical-align: top;\n    }\n\n    .dataframe thead th {\n        text-align: right;\n    }\n</style>\n<table border=\"1\" class=\"dataframe\">\n  <thead>\n    <tr style=\"text-align: right;\">\n      <th></th>\n      <th>Predicted 0</th>\n      <th>Predicted 1</th>\n    </tr>\n  </thead>\n  <tbody>\n    <tr>\n      <td>Actual 0</td>\n      <td>11</td>\n      <td>0</td>\n    </tr>\n    <tr>\n      <td>Actual 1</td>\n      <td>1</td>\n      <td>0</td>\n    </tr>\n  </tbody>\n</table>\n</div>",
      "text/plain": "          Predicted 0  Predicted 1\nActual 0           11            0\nActual 1            1            0"
     },
     "metadata": {},
     "output_type": "display_data"
    }
   ],
   "source": [
    "# Displaying results\n",
    "print(\"Confusion Matrix\")\n",
    "display(cm_df)\n",
    "print(f\"Accuracy Score : {acc_score}\")\n",
    "print(\"Classification Report\")\n",
    "print(classification_report(y_test, predictions))"
   ]
  },
  {
   "cell_type": "code",
   "execution_count": null,
   "metadata": {},
   "outputs": [],
   "source": []
  }
 ]
}