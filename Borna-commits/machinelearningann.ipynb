{
 "nbformat": 4,
 "nbformat_minor": 2,
 "metadata": {
  "language_info": {
   "name": "python",
   "codemirror_mode": {
    "name": "ipython",
    "version": 3
   },
   "version": "3.7.4"
  },
  "orig_nbformat": 2,
  "file_extension": ".py",
  "mimetype": "text/x-python",
  "name": "python",
  "npconvert_exporter": "python",
  "pygments_lexer": "ipython3",
  "version": 3
 },
 "cells": [
  {
   "cell_type": "code",
   "execution_count": 44,
   "metadata": {},
   "outputs": [],
   "source": [
    "from path import Path\n",
    "import pandas as pd\n",
    "import numpy as np\n",
    "import keras\n",
    "from keras.models import Sequential\n",
    "from keras.layers import Dense"
   ]
  },
  {
   "cell_type": "code",
   "execution_count": 45,
   "metadata": {},
   "outputs": [
    {
     "data": {
      "text/html": "<div>\n<style scoped>\n    .dataframe tbody tr th:only-of-type {\n        vertical-align: middle;\n    }\n\n    .dataframe tbody tr th {\n        vertical-align: top;\n    }\n\n    .dataframe thead th {\n        text-align: right;\n    }\n</style>\n<table border=\"1\" class=\"dataframe\">\n  <thead>\n    <tr style=\"text-align: right;\">\n      <th></th>\n      <th>1</th>\n      <th>2</th>\n      <th>3</th>\n      <th>4</th>\n      <th>5</th>\n      <th>6</th>\n      <th>7</th>\n      <th>8</th>\n      <th>9</th>\n      <th>10</th>\n      <th>...</th>\n      <th>167</th>\n      <th>168</th>\n      <th>169</th>\n      <th>170</th>\n      <th>171</th>\n      <th>172</th>\n      <th>173</th>\n      <th>174</th>\n      <th>175</th>\n      <th>acquired</th>\n    </tr>\n    <tr>\n      <th>Tickers</th>\n      <th></th>\n      <th></th>\n      <th></th>\n      <th></th>\n      <th></th>\n      <th></th>\n      <th></th>\n      <th></th>\n      <th></th>\n      <th></th>\n      <th></th>\n      <th></th>\n      <th></th>\n      <th></th>\n      <th></th>\n      <th></th>\n      <th></th>\n      <th></th>\n      <th></th>\n      <th></th>\n      <th></th>\n    </tr>\n  </thead>\n  <tbody>\n    <tr>\n      <td>RTN</td>\n      <td>0.002554</td>\n      <td>-0.005143</td>\n      <td>0.005991</td>\n      <td>-0.007012</td>\n      <td>0.000339</td>\n      <td>-0.010782</td>\n      <td>-0.034166</td>\n      <td>-0.033451</td>\n      <td>0.003665</td>\n      <td>0.002974</td>\n      <td>...</td>\n      <td>0.009742</td>\n      <td>0.016232</td>\n      <td>0.018262</td>\n      <td>0.007075</td>\n      <td>0.012471</td>\n      <td>0.000000</td>\n      <td>0.000000</td>\n      <td>0.0</td>\n      <td>0.0</td>\n      <td>1</td>\n    </tr>\n    <tr>\n      <td>CELG</td>\n      <td>-0.009774</td>\n      <td>-0.044747</td>\n      <td>0.009529</td>\n      <td>-0.011714</td>\n      <td>-0.017261</td>\n      <td>0.017447</td>\n      <td>-0.026700</td>\n      <td>-0.017027</td>\n      <td>-0.003970</td>\n      <td>-0.005072</td>\n      <td>...</td>\n      <td>-0.028070</td>\n      <td>0.055565</td>\n      <td>0.004960</td>\n      <td>-0.006050</td>\n      <td>0.026590</td>\n      <td>0.039788</td>\n      <td>0.206933</td>\n      <td>0.0</td>\n      <td>0.0</td>\n      <td>1</td>\n    </tr>\n    <tr>\n      <td>AGN</td>\n      <td>0.016011</td>\n      <td>-0.011047</td>\n      <td>0.003388</td>\n      <td>-0.009972</td>\n      <td>0.000053</td>\n      <td>-0.046576</td>\n      <td>0.007713</td>\n      <td>-0.017139</td>\n      <td>-0.019187</td>\n      <td>-0.075547</td>\n      <td>...</td>\n      <td>0.042426</td>\n      <td>0.062334</td>\n      <td>0.020755</td>\n      <td>-0.000076</td>\n      <td>-0.009479</td>\n      <td>0.253608</td>\n      <td>0.000000</td>\n      <td>0.0</td>\n      <td>0.0</td>\n      <td>1</td>\n    </tr>\n    <tr>\n      <td>DD</td>\n      <td>-0.005447</td>\n      <td>-0.000171</td>\n      <td>-0.008901</td>\n      <td>-0.008290</td>\n      <td>-0.003483</td>\n      <td>0.006641</td>\n      <td>0.007986</td>\n      <td>-0.004478</td>\n      <td>-0.006228</td>\n      <td>0.006093</td>\n      <td>...</td>\n      <td>-0.003087</td>\n      <td>-0.003561</td>\n      <td>0.002953</td>\n      <td>0.002014</td>\n      <td>-0.006958</td>\n      <td>0.010589</td>\n      <td>0.026965</td>\n      <td>0.0</td>\n      <td>0.0</td>\n      <td>1</td>\n    </tr>\n    <tr>\n      <td>MDLZ</td>\n      <td>0.008600</td>\n      <td>0.010336</td>\n      <td>-0.004348</td>\n      <td>0.001798</td>\n      <td>-0.000256</td>\n      <td>-0.005899</td>\n      <td>0.006192</td>\n      <td>0.005128</td>\n      <td>-0.005612</td>\n      <td>-0.002309</td>\n      <td>...</td>\n      <td>0.000000</td>\n      <td>0.000000</td>\n      <td>0.000000</td>\n      <td>0.000000</td>\n      <td>0.000000</td>\n      <td>0.000000</td>\n      <td>0.000000</td>\n      <td>0.0</td>\n      <td>0.0</td>\n      <td>1</td>\n    </tr>\n  </tbody>\n</table>\n<p>5 rows × 176 columns</p>\n</div>",
      "text/plain": "                1         2         3         4         5         6         7  \\\nTickers                                                                         \nRTN      0.002554 -0.005143  0.005991 -0.007012  0.000339 -0.010782 -0.034166   \nCELG    -0.009774 -0.044747  0.009529 -0.011714 -0.017261  0.017447 -0.026700   \nAGN      0.016011 -0.011047  0.003388 -0.009972  0.000053 -0.046576  0.007713   \nDD      -0.005447 -0.000171 -0.008901 -0.008290 -0.003483  0.006641  0.007986   \nMDLZ     0.008600  0.010336 -0.004348  0.001798 -0.000256 -0.005899  0.006192   \n\n                8         9        10  ...       167       168       169  \\\nTickers                                ...                                 \nRTN     -0.033451  0.003665  0.002974  ...  0.009742  0.016232  0.018262   \nCELG    -0.017027 -0.003970 -0.005072  ... -0.028070  0.055565  0.004960   \nAGN     -0.017139 -0.019187 -0.075547  ...  0.042426  0.062334  0.020755   \nDD      -0.004478 -0.006228  0.006093  ... -0.003087 -0.003561  0.002953   \nMDLZ     0.005128 -0.005612 -0.002309  ...  0.000000  0.000000  0.000000   \n\n              170       171       172       173  174  175  acquired  \nTickers                                                              \nRTN      0.007075  0.012471  0.000000  0.000000  0.0  0.0         1  \nCELG    -0.006050  0.026590  0.039788  0.206933  0.0  0.0         1  \nAGN     -0.000076 -0.009479  0.253608  0.000000  0.0  0.0         1  \nDD       0.002014 -0.006958  0.010589  0.026965  0.0  0.0         1  \nMDLZ     0.000000  0.000000  0.000000  0.000000  0.0  0.0         1  \n\n[5 rows x 176 columns]"
     },
     "execution_count": 45,
     "metadata": {},
     "output_type": "execute_result"
    }
   ],
   "source": [
    "# Loading data\n",
    "file_path = Path(\"/Users/bornavahabzadeh/Desktop/Rice/Project-2/data/main_df.csv\")\n",
    "df = pd.read_csv(file_path, index_col = \"Tickers\")\n",
    "df.head()"
   ]
  },
  {
   "cell_type": "code",
   "execution_count": 46,
   "metadata": {},
   "outputs": [],
   "source": [
    "# separate features from target\n",
    "Y = df[\"acquired\"]\n",
    "X = df.drop(columns=\"acquired\")\n",
    "X = df[df.columns[1:176]]"
   ]
  },
  {
   "cell_type": "code",
   "execution_count": 47,
   "metadata": {},
   "outputs": [],
   "source": [
    "## Split our data into training and testing\n",
    "from sklearn.model_selection import train_test_split\n",
    "\n",
    "X_train, X_test, Y_train, Y_test = train_test_split(X, y, random_state=1, stratify=y)"
   ]
  },
  {
   "cell_type": "code",
   "execution_count": 48,
   "metadata": {},
   "outputs": [],
   "source": [
    "#Initialising the Artificial Neural Network\n",
    "\n",
    "model = Sequential()"
   ]
  },
  {
   "cell_type": "code",
   "execution_count": 49,
   "metadata": {},
   "outputs": [],
   "source": [
    "#Creating the Input-layer and the first hidden layer\n",
    "\n",
    "model.add(Dense(input_dim = 175, units = 10, activation='relu', kernel_initializer='uniform'))"
   ]
  },
  {
   "cell_type": "code",
   "execution_count": 50,
   "metadata": {},
   "outputs": [],
   "source": [
    "#Creating a second hidden layer\n",
    "\n",
    "model.add(Dense(units = 20, activation='relu', kernel_initializer='uniform'))"
   ]
  },
  {
   "cell_type": "code",
   "execution_count": 51,
   "metadata": {},
   "outputs": [],
   "source": [
    "#Creating the output  layer\n",
    "\n",
    "model.add(Dense(units = 1, activation='sigmoid', kernel_initializer='uniform'))"
   ]
  },
  {
   "cell_type": "code",
   "execution_count": 52,
   "metadata": {},
   "outputs": [],
   "source": [
    "# Compiling the ANN classifier\n",
    "\n",
    "model.compile(optimizer='adam', loss='binary_crossentropy', metrics=['accuracy'])"
   ]
  },
  {
   "cell_type": "code",
   "execution_count": 53,
   "metadata": {},
   "outputs": [
    {
     "name": "stdout",
     "output_type": "stream",
     "text": "Epoch 1/10\n149/149 [==============================] - 0s 2ms/step - loss: 0.6932 - accuracy: 0.4362\nEpoch 2/10\n149/149 [==============================] - 0s 22us/step - loss: 0.6930 - accuracy: 0.6174\nEpoch 3/10\n149/149 [==============================] - 0s 40us/step - loss: 0.6928 - accuracy: 0.6174\nEpoch 4/10\n149/149 [==============================] - 0s 47us/step - loss: 0.6927 - accuracy: 0.6174\nEpoch 5/10\n149/149 [==============================] - 0s 82us/step - loss: 0.6925 - accuracy: 0.6174\nEpoch 6/10\n149/149 [==============================] - 0s 61us/step - loss: 0.6923 - accuracy: 0.6174\nEpoch 7/10\n149/149 [==============================] - 0s 30us/step - loss: 0.6922 - accuracy: 0.6174\nEpoch 8/10\n149/149 [==============================] - 0s 25us/step - loss: 0.6920 - accuracy: 0.6174\nEpoch 9/10\n149/149 [==============================] - 0s 29us/step - loss: 0.6918 - accuracy: 0.6174\nEpoch 10/10\n149/149 [==============================] - 0s 42us/step - loss: 0.6916 - accuracy: 0.6174\n"
    },
    {
     "data": {
      "text/plain": "<keras.callbacks.callbacks.History at 0x1a39f7ef90>"
     },
     "execution_count": 53,
     "metadata": {},
     "output_type": "execute_result"
    }
   ],
   "source": [
    "#Fitting the model with the training set\n",
    "\n",
    "model.fit(X_train,Y_train,batch_size=500, epochs=10)"
   ]
  },
  {
   "cell_type": "code",
   "execution_count": 54,
   "metadata": {},
   "outputs": [
    {
     "name": "stdout",
     "output_type": "stream",
     "text": "50/50 [==============================] - 0s 893us/step\n"
    },
    {
     "data": {
      "text/plain": "[0.6914774179458618, 0.6200000047683716]"
     },
     "execution_count": 54,
     "metadata": {},
     "output_type": "execute_result"
    }
   ],
   "source": [
    "# Evaluating the performance on the test set\n",
    "\n",
    "model.evaluate(X_test,Y_test)"
   ]
  },
  {
   "cell_type": "code",
   "execution_count": null,
   "metadata": {},
   "outputs": [],
   "source": []
  }
 ]
}