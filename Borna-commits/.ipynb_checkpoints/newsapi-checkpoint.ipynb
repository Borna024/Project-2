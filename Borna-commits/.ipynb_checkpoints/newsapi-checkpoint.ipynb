{
 "nbformat": 4,
 "nbformat_minor": 2,
 "metadata": {
  "language_info": {
   "name": "python",
   "codemirror_mode": {
    "name": "ipython",
    "version": 3
   }
  },
  "orig_nbformat": 2,
  "file_extension": ".py",
  "mimetype": "text/x-python",
  "name": "python",
  "npconvert_exporter": "python",
  "pygments_lexer": "ipython3",
  "version": 3
 },
 "cells": [
  {
   "cell_type": "code",
   "execution_count": 7,
   "metadata": {},
   "outputs": [],
   "source": [
    "# Using Newsapi\n",
    "from newsapi import NewsApiClient"
   ]
  },
  {
   "cell_type": "code",
   "execution_count": 8,
   "metadata": {},
   "outputs": [],
   "source": [
    "newsapi = NewsApiClient(api_key=\"YOUR CODE\")"
   ]
  },
  {
   "cell_type": "code",
   "execution_count": 10,
   "metadata": {},
   "outputs": [
    {
     "data": {
      "text/plain": "1267258"
     },
     "execution_count": 10,
     "metadata": {},
     "output_type": "execute_result"
    }
   ],
   "source": [
    "acquisition_news = newsapi.get_everything(\n",
    "q=\"acquire OR to acquire OR acquisition OR buyout OR takeover OR bid\", language=\"en\", page_size=100\n",
    ")\n",
    "# Show the total number of news\n",
    "acquisition_news[\"totalResults\"]"
   ]
  },
  {
   "cell_type": "code",
   "execution_count": 11,
   "metadata": {},
   "outputs": [
    {
     "name": "stdout",
     "output_type": "stream",
     "text": "nday began to restrict vehicle use in a bid to prevent the situation from worsening. In fact, the region saw record-breaking air pollution o…', 'url': 'https://earther.gizmodo.com/closed-schools-delayed-flights-and-restricted-cars-i-1839607214', 'urlToImage': 'https://i.kinja-img.com/gawker-media/image/upload/c_fill,f_auto,fl_progressive,g_center,h_675,pg_1,q_80,w_1200/yxm8drwhfsjvq0sgpe81.jpg', 'publishedAt': '2019-11-04T16:59:00Z', 'content': 'The air quality of Delhi, India, is growing so dangerous for human health that officials in the capital territory on Monday began to restrict vehicle use in a bid to prevent the situation from worsening. In fact, the region saw record-breaking air pollution o… [+2627 chars]'}, {'source': {'id': 'cnn', 'name': 'CNN'}, 'author': 'Eric Bradner, CNN', 'title': \"Beto O'Rourke ends 2020 presidential bid\", 'description': \"Former Texas congressman Beto O'Rourke announced Friday that he is ending his 2020 presidential campaign.\", 'url': 'https://www.cnn.com/2019/11/01/politics/beto-orourke-drops-out/index.html', 'urlToImage': 'https://cdn.cnn.com/cnnnext/dam/assets/191021175144-beto-orourke-super-tease.jpg', 'publishedAt': '2019-11-01T21:34:57Z', 'content': None}, {'source': {'id': 'the-new-york-times', 'name': 'The New York Times'}, 'author': 'Benjamin Weiser and Azi Paybarah', 'title': 'Trump Taxes: Judges Seem Skeptical of Bid to Block Subpoena for Returns', 'description': 'President Trump is appealing a ruling ordering him to abide by a subpoena from state prosecutors to turn over eight years of tax returns.', 'url': 'https://www.nytimes.com/2019/10/23/nyregion/trump-taxes-vance.html', 'urlToImage': 'https://static01.nyt.com/images/2019/10/17/nyregion/17nytrump/17nytrump-facebookJumbo.jpg', 'publishedAt': '2019-10-23T15:05:34Z', 'content': 'The appeal by Mr. Trumps lawyers came after a lower court judge ruled on Oct. 7 that the presidents argument that he could not be investigated by a local prosecutor was repugnant to the nations governmental structure and constitutional values.\\r\\nMr. Vances off… [+1430 chars]'}, {'source': {'id': 'bbc-news', 'name': 'BBC News'}, 'author': 'https://www.facebook.com/bbcnews', 'title': 'US election 2020: Michael Bloomberg mulls presidential bid', 'description': 'The ex-New York mayor is concerned current Democratic hopefuls will not beat Donald Trump in 2020.', 'url': 'https://www.bbc.co.uk/news/world-us-canada-50340989', 'urlToImage': 'https://ichef.bbci.co.uk/news/1024/branded_news/1100F/production/_109574696_mediaitem109574693.jpg', 'publishedAt': '2019-11-08T04:32:27Z', 'content': \"Image copyrightAFPImage caption\\r\\n Michael Bloomberg has highlighted climate change as a key issue\\r\\nBillionaire businessman Michael Bloomberg is strongly considering entering the race for the US Democratic Party's presidential nomination.\\r\\nThe ex-New York City… [+2109 chars]\"}, {'source': {'id': 'cnn', 'name': 'CNN'}, 'author': 'Paul LeBlanc, CNN', 'title': 'Cyclist who flipped off Trump motorcade wins local office in Virginia', 'description': \"The cyclist who flipped off President Donald Trump's motorcade in 2017, and lost her job because of it, has won her bid for local office in Virginia.\", 'url': 'https://www.cnn.com/2019/11/05/politics/juli-briskman-trump-motorcade-flipped-off-local-office-win/index.html', 'urlToImage': 'https://cdn.cnn.com/cnnnext/dam/assets/180919150948-juli-briskman-super-tease.jpg', 'publishedAt': '2019-11-06T04:56:29Z', 'content': \"Washington (CNN)The cyclist who flipped off President Donald Trump's motorcade in 2017, and lost her job because of it, has won her bid for local office in Virginia. \\r\\nCNN projected that Juli Briskman on Tuesday night won her race to become supervisor for the… [+1523 chars]\"}, {'source': {'id': 'cnn', 'name': 'CNN'}, 'author': 'Kate Sullivan, CNN', 'title': 'CNN projects Gov. John Bel Edwards forced into runoff in Louisiana', 'description': 'Louisiana Governor John Bel Edwards has been forced into a runoff election in his bid for reelection, where he will face Republican businessman Eddie Rispone, CNN projected Saturday.', 'url': 'https://www.cnn.com/2019/10/12/politics/louisiana-governor-edwards-race-runoff/index.html', 'urlToImage': 'https://cdn.cnn.com/cnnnext/dam/assets/191011170151-01-gov-john-bel-edwards-lead-image-super-tease.jpg', 'publishedAt': '2019-10-13T03:51:28Z', 'content': 'Washington (CNN)Louisiana Governor John Bel Edwards has been forced into a runoff election in his bid for reelection, where he will face Republican businessman Eddie Rispone, CNN projected Saturday. \\r\\nEdwards was the top vote getter but will fall short of the… [+1441 chars]'}, {'source': {'id': 'engadget', 'name': 'Engadget'}, 'author': 'Christine Fisher', 'title': 'Senators want to know if TikTok is a national security risk', 'description': \"To most, TikTok is an innocent platform full of cute and/or funny videos. But to political leaders, it's a potential national security risk. Senate Minority Leader Chuck Schumer and Senator Tom Cotton (R-Arkansas) have formally asked the Intelligence Communit…\", 'url': 'https://www.engadget.com/2019/10/24/tiktok-bytedance-national-security-senators-schumer-cotton/', 'urlToImage': 'https://o.aolcdn.com/images/dims?thumbnail=1200%2C630&quality=80&image_uri=https%3A%2F%2Fo.aolcdn.com%2Fimages%2Fdims%3Fcrop%3D6720%252C4198%252C0%252C197%26quality%3D85%26format%3Djpg%26resize%3D1600%252C1000%26image_uri%3Dhttps%253A%252F%252Fs.yimg.com%252Fos%252Fcreatr-images%252F2019-10%252F0d7d3190-e5c4-11e9-aecf-e9d5dfa4275c%26client%3Da1acac3e1b3290917d92%26signature%3D02f811eefeda4b6d8246395dd512011528e8c159&client=amp-blogside-v2&signature=921d9c341c55573f07fa22813e95b8f6f967ae4e', 'publishedAt': '2019-10-24T17:10:00Z', 'content': '\"With over 110 million downloads in the U.S. alone, TikTok is a potential counterintelligence threat we cannot ignore,\" the Senators wrote in their letter.\\r\\nThey point out that TikTok\\'s parent company ByteDance is required to adhere to China\\'s laws and could … [+948 chars]'}, {'source': {'id': None, 'name': 'Blog.google'}, 'author': 'Sameer SamatVice PresidentProduct Management, Android, Google Play & Wear OS', 'title': 'Investing in the Wear OS ecosystem', 'description': 'When we introduced Wear OS by Google (then called Android Wear) five years ago, wearable tech was pretty nascent. While it was early, we felt there was something really exciting about this next era of computing and we wanted to enable an ecosystem of partners…', 'url': 'https://www.blog.google/products/wear-os/investing-wear-os-ecosystem/?utm_source=feedburner&utm_medium=feed&utm_campaign=Feed%3A+blogspot%2FMKuf+%28The+Keyword+%7C+Official+Google+Blog%29', 'urlToImage': 'https://migration-dot-gweb-uniblog-publish-prod.appspot.com/static/blogv2/images/google-200x200.png', 'publishedAt': '2019-11-01T13:00:00Z', 'content': 'When we introduced Wear OS by Google (then called Android Wear) five years ago, wearable tech was pretty nascent.\\xa0\\r\\nWhile it was early, we felt there was something really exciting about this next era of computing and we wanted to enable an ecosystem of partne… [+784 chars]'}, {'source': {'id': 'ars-technica', 'name': 'Ars Technica'}, 'author': 'Ron Amadeo', 'title': 'Report: Home builders ditch Nest products after Google takeover', 'description': \"Forcing users into a Google account doesn't work for the home building industry.\", 'url': 'https://arstechnica.com/gadgets/2019/10/report-home-builders-ditch-nest-products-after-google-takeover/', 'urlToImage': 'https://cdn.arstechnica.net/wp-content/uploads/2019/08/Nest_Learning_Thermostat_-_Programs_Itself_Then_Pa-2-760x380.png', 'publishedAt': '2019-10-18T19:38:26Z', 'content': 'Enlarge/ Coming soon to a Nest near you: Your Google account. \\r\\n12 with 11 posters participating\\r\\nGoogle\\'s \"Nest\" smart home division has seen major upheaval this year, and according to a report from Bloomberg, the changes aren\\'t sitting well with residential… [+2546 chars]'}, {'source': {'id': None, 'name': 'Scientificamerican.com'}, 'author': 'Gul Deniz Salali', 'title': 'What Do Machine Learning and Hunter-Gatherer Children Have in Common?', 'description': 'They acquire knowledge in remarkably similar ways -- Read more on ScientificAmerican.com', 'url': 'https://blogs.scientificamerican.com/observations/what-do-machine-learning-and-hunter-gatherer-children-have-in-common/', 'urlToImage': 'https://static.scientificamerican.com/blogs/cache/file/1B0186F0-941D-49BF-A7E3C0E94AC83AFA.jpg', 'publishedAt': '2019-10-21T16:00:00Z', 'content': 'When DeepMind’s AlphaGo program defeated its human competitor at the ancient board game Go, it made a big splash in the AI scene. AlphaGo was not trained through a set of prewritten instructions, but rather through practice and feedback. It turns out that the… [+6368 chars]'}, {'source': {'id': None, 'name': 'Yahoo.com'}, 'author': 'Dan Goure', 'title': 'Why Poland Really Needs the Patriot Missile Defense System (Think Russia)', 'description': \"A robust, modern, integrated Polish air defense will complicate Russian attack planning and help ensure the survivability of both Polish military units and installations, as well as NATO's forward-deployed forces.\", 'url': 'https://news.yahoo.com/why-poland-really-needs-patriot-020000115.html', 'urlToImage': 'https://s.yimg.com/ny/api/res/1.2/rcevTqtjYimCtfi5ZsI_Ow--/YXBwaWQ9aGlnaGxhbmRlcjt3PTEyODA7aD04MTAuNjY2NjY2NjY2NjY2Ng--/https://s.yimg.com/uu/api/res/1.2/dbYanZQfFvFBgWHCI7zGjA--~B/aD05MTI7dz0xNDQwO3NtPTE7YXBwaWQ9eXRhY2h5b24-/https://media.zenfs.com/en/the_national_interest_705/91c082b253a73e6e1faae3106d640cfe', 'publishedAt': '2019-10-13T02:00:00Z', 'content': 'Poland has become a stalwart member of NATO and a close ally of the United States. It has met the Alliances stated goal of spending at least two percent of GDP on defense. Moreover, Poland is spending an increasing share of its defense budget on modernization… [+1213 chars]'}, {'source': {'id': 'techcrunch', 'name': 'TechCrunch'}, 'author': 'Walter Thompson', 'title': 'Latin America Roundup: Uber acquires Cornershop, Softbank invests in Buser and Olist', 'description': 'Brazil continued to churn out unicorns this month, with Curitiba-based Ebanx becoming the first startup from the southern part of the country to top a $1 billion valuation. U.S.-based FTV Capital provided the investment but did not disclose the amount investe…', 'url': 'http://techcrunch.com/2019/10/30/latin-america-roundup-ebanx-unicorn-uber-cornershop-softbank-buser-olist-carrefour-ewally/', 'urlToImage': 'https://techcrunch.com/wp-content/uploads/2019/10/GettyImages-127468217.jpg?w=600', 'publishedAt': '2019-10-30T20:30:18Z', 'content': 'Brazil continued to churn out unicorns this month, with Curitiba-based Ebanx becoming the first startup from the southern part of the country to top a $1 billion valuation. U.S.-based FTV Capital provided the investment but did not disclose the amount investe… [+8651 chars]'}, {'source': {'id': None, 'name': 'Phandroid.com'}, 'author': 'Darren Millar', 'title': 'Google has submitted a bid to buy Fitbit', 'description': 'Google has it eyes fixed on a slice of the crowded market of fitness trackers and smartwatches, people familiar with the matter said on Monday 28th October 2019 that Alphabet Inc has made an offer to acquire U.S. wearable device maker Fitbit Inc While Google …', 'url': 'https://phandroid.com/2019/10/28/google-has-submitted-a-bid-to-buy-fitbit/', 'urlToImage': 'https://phandroid.com/wp-content/uploads/2019/05/Google-Logo-640x427.jpg', 'publishedAt': '2019-10-28T16:10:33Z', 'content': 'Darren Millar\\r\\nOct 28th, 2019Google has it eyes fixed on a slice of the crowded market of fitness trackers and smartwatches, people familiar with the matter said on Monday 28th October 2019 that Alphabet Inc has made an offer to acquire U.S. wearable device m… [+580 chars]'}, {'source': {'id': 'the-new-york-times', 'name': 'The New York Times'}, 'author': 'Charlie Warzel', 'title': 'Pierre Delecto, QAnon and the Paradox of Anonymity', 'description': 'In 2019, it’s somehow both easier and harder than ever to be anonymous.', 'url': 'https://www.nytimes.com/2019/10/29/opinion/pierre-delecto-qanon-anonymous-anonymity.html', 'urlToImage': 'https://static01.nyt.com/images/2019/10/29/opinion/29warzelnewsletter-2/29warzelnewsletter-2-facebookJumbo.jpg', 'publishedAt': '2019-10-29T19:51:37Z', 'content': 'This week, I thought Id add a few Times pieces that have grappled with the subject of anonymity throughout the years. The first is a Sunday Review piece from 1901 titled The Modest Author, about the joy of unsigned written work. Heres the gist:\\r\\nHe reaches th… [+2825 chars]'}, {'source': {'id': None, 'name': 'Marketwatch.com'}, 'author': 'Lina Saigol, Selin Bucak', 'title': 'U.S. investor Oaktree makes last-minute', 'description': 'British satellite company Inmarsat could be worth at least $1 billion more, according to Jefferies analysts', 'url': 'https://www.marketwatch.com/story/us-investor-oaktree-makes-last-minute-2019-11-05', 'urlToImage': 'http://s.marketwatch.com/public/resources/MWimages/MW-HU653_Inmars_ZG_20191105071711.jpg', 'publishedAt': '2019-11-05T13:15:33Z', 'content': 'Billionaire Howard Marks Oaktree Capital Management has hit out against the $3.4 billion takeover of Inmarsat, arguing that it significantly undervalues the British satellite company, just days before it was due to be delisted from the London stock market.\\r\\nT… [+2719 chars]'}, {'source': {'id': 'business-insider', 'name': 'Business Insider'}, 'author': 'Lauren Johnson', 'title': 'Roku’s $150 million acquisition of adtech firm Dataxu could make it more competitive with Amazon, but advertisers worry it could make Roku more of a walled garden', 'description': \"Roku announced that it plans to acquire Boston-based adtech firm Dataxu for $150 million in cash and stock to build a bigger OTT advertising platform. Alison Levin, Roku's VP of ad sales and strategy, said Dataxu gives Roku expertise in performance-based mark…\", 'url': 'https://www.businessinsider.com/roku-buys-dataxu-to-beef-up-ott-advertising-analysis-2019-10', 'urlToImage': 'https://image.businessinsider.com/5db0b6bedee01900674bc643?width=1200&format=jpeg', 'publishedAt': '2019-10-23T21:07:46Z', 'content': 'Roku has big advertising ambitions and is betting that adtech firm Dataxu can help it capitalize on the $70 billion TV market.\\r\\nThis week, Roku announced plans to acquire adtech firm Dataxu for $150 million in cash and stock. Roku has been trying to rival Ama… [+5845 chars]'}, {'source': {'id': None, 'name': 'Marketwatch.com'}, 'author': 'Lina Saigol , Selin Bucak', 'title': 'Here’s why British tech is a hot commodity for investors right now', 'description': 'Buyout groups are snapping up U.K. technology and software companies as they race to spend their record piles of cash.', 'url': 'https://www.marketwatch.com/story/heres-why-british-tech-is-a-hot-commodity-for-investors-right-now-2019-10-23', 'urlToImage': 'http://s.marketwatch.com/public/resources/MWimages/MW-HT212_sophos_ZG_20191014035420.jpg', 'publishedAt': '2019-10-23T13:10:38Z', 'content': 'Looking for a hot listed U.K. tech company? Get in line. British technology and software companies are being rapidly snatched off the London stock market by private-equity firms desperate to deploy their record piles of cash. \\r\\nIn the past decade, half of com… [+4685 chars]'}, {'source': {'id': 'the-new-york-times', 'name': 'The New York Times'}, 'author': 'Alexander Burns', 'title': 'Michael Bloomberg to File Paperwork for 2020 Presidential Primary', 'description': 'Advisers to the former New York City mayor say he will submit paperwork on Friday afternoon to enter the 2020 presidential primary in Alabama, the first state with a filing deadline.', 'url': 'https://www.nytimes.com/2019/11/08/us/politics/michael-bloomberg-president.html', 'urlToImage': 'https://static01.nyt.com/images/2019/11/08/us/politics/08bloomberg1/08bloomberg1-facebookJumbo.jpg', 'publishedAt': '2019-11-08T16:05:43Z', 'content': 'Michael R. Bloomberg will file paperwork on Friday afternoon to place himself on the Democratic presidential primary ballot in Alabama, advisers said, a first step toward competing for the partys nomination to challenge President Trump next year.\\r\\nAdvisers to… [+921 chars]'}, {'source': {'id': 'abc-news', 'name': 'ABC News'}, 'author': 'Catherine Thorbecke', 'title': 'French luxury business LVMH offers to buy Tiffany', 'description': 'The owners of Louis Vuitton and Dior offered to buy the jewelry makers in cash.', 'url': 'https://abcnews.go.com/Business/french-luxury-business-lvmh-owners-louis-vuitton-dior/story?id=66585524', 'urlToImage': 'https://s.abcnews.com/images/Business/tiffany-co-file-rt-jef-191028_hpMain_16x9_992.jpg', 'publishedAt': '2019-10-28T17:23:19Z', 'content': 'French luxury goods powerhouse LVMH Moët Hennessy Louis Vuitton has offered to acquire Tiffany &amp; Co., the 182-year-old American jewelry company, for $120 per share.\\r\\nLVMH already owns brands such as Louis Vuitton, Christian Dior and Givenchy. The all-cash… [+1365 chars]'}, {'source': {'id': 'techcrunch', 'name': 'TechCrunch'}, 'author': 'Jonathan Shieber', 'title': 'Google’s Fitbit purchase could reshape its healthcare ambitions', 'description': 'Google has reached into parent company Alphabet’s $121 billion cash reserves to spend $2.1 billion on Fitbit, a move into the key consumer health market that places them in more direct competition with rival Apple. For more than a year, Ftibit and Google have…', 'url': 'http://techcrunch.com/2019/11/01/googles-fitbit-purchase-could-reshape-its-healthcare-ambitions/', 'urlToImage': 'https://techcrunch.com/wp-content/uploads/2019/11/44383302960_2c124b39be_k.jpg?w=640', 'publishedAt': '2019-11-01T19:56:33Z', 'content': 'Google has reached into parent company Alphabet’s $121 billion cash reserves to spend $2.1 billion on Fitbit, a move into the key consumer health market that places them in more direct competition with rival Apple.\\r\\nFor more than a year, Ftibit and Google hav… [+2666 chars]'}, {'source': {'id': None, 'name': 'Slashdot.org'}, 'author': 'msmash', 'title': \"More Than Half of the World's Banks Are Already in a Weak Position Before Any Downturn That May Be Coming\", 'description': \"A majority of banks globally may not be economically viable because their returns on equity aren't keeping pace with costs, McKinsey said in its annual review of the industry released Monday. From a report: It urged firms to take steps such as developing tech…\", 'url': 'https://news.slashdot.org/story/19/10/22/2016239/more-than-half-of-the-worlds-banks-are-already-in-a-weak-position-before-any-downturn-that-may-be-coming', 'urlToImage': 'https://a.fsdn.com/sd/topics/money_64.png', 'publishedAt': '2019-10-22T20:17:00Z', 'content': 'It urged firms to take steps such as developing technology, farming out operations and bulking up through mergers ahead of a potential economic slowdown. \"We believe we\\'re in the late economic cycle and banks need to make bold moves now because they are not i… [+1275 chars]'}, {'source': {'id': 'reuters', 'name': 'Reuters'}, 'author': 'Reuters Editorial', 'title': \"Scottish court rejects bid to declare Johnson's Brexit deal unlawful\", 'description': \"A Scottish Court rejected on Friday a case which argued that British Prime Minister Boris Johnson's Brexit deal was unlawful as it contravenes tax legislation.\", 'url': 'https://www.reuters.com/article/us-britain-eu-court-idUSKBN1WX26S', 'urlToImage': 'https://s4.reutersmedia.net/resources_v2/images/rcom-default.png', 'publishedAt': '2019-10-18T16:52:47Z', 'content': 'LONDON (Reuters) - A Scottish Court rejected on Friday a case which argued that British Prime Minister Boris Johnson’s Brexit deal was unlawful as it contravenes tax legislation. \\r\\n“We will review this decision carefully but my instinct is that we are unlikel… [+139 chars]'}]}\n"
    }
   ],
   "source": [
    "print(acquisition_news)"
   ]
  },
  {
   "cell_type": "code",
   "execution_count": 13,
   "metadata": {},
   "outputs": [],
   "source": [
    "## using reuters\n",
    "from nltk.corpus import reuters\n",
    "from nltk.tokenize import sent_tokenize, word_tokenize\n",
    "import pandas as pd"
   ]
  },
  {
   "cell_type": "code",
   "execution_count": 15,
   "metadata": {},
   "outputs": [],
   "source": [
    "# Get all fileids associated with cpi\n",
    "\n",
    "acq_ids = reuters.fileids(categories = 'acq')"
   ]
  },
  {
   "cell_type": "code",
   "execution_count": 16,
   "metadata": {},
   "outputs": [],
   "source": [
    "# get all raw stories\n",
    "raw_stories = []\n",
    "ids = []\n",
    "for id in acq_ids:\n",
    "    raw_stories.append(reuters.raw(id))\n",
    "    ids.append(id)"
   ]
  },
  {
   "cell_type": "code",
   "execution_count": 18,
   "metadata": {},
   "outputs": [],
   "source": [
    "# sentence tokenize stories\n",
    "\n",
    "sentence_tokenized = [sent_tokenize(i) for i in raw_stories]"
   ]
  },
  {
   "cell_type": "code",
   "execution_count": 19,
   "metadata": {},
   "outputs": [],
   "source": [
    "# word tokenize all sentences\n",
    "word_tokenized = []\n",
    "\n",
    "for story in sentence_tokenized:\n",
    "    # get all for each article, which is already sentence tokenized\n",
    "    words = []\n",
    "    for sent in story:\n",
    "        words = words + word_tokenize(sent)\n",
    "    # append all words for each article to the word_tokenized list\n",
    "    word_tokenized.append(words)"
   ]
  },
  {
   "cell_type": "code",
   "execution_count": 20,
   "metadata": {},
   "outputs": [],
   "source": [
    "# Put everything into a DataFrame\n",
    "reuters_acq = pd.DataFrame({'raw_stories': raw_stories,\n",
    "                             'sentence_tokenized': sentence_tokenized,\n",
    "                             'word_tokenized': word_tokenized\n",
    "                            })\n",
    "reuters_acq.index = ids"
   ]
  },
  {
   "cell_type": "code",
   "execution_count": 22,
   "metadata": {},
   "outputs": [
    {
     "data": {
      "text/html": "<div>\n<style scoped>\n    .dataframe tbody tr th:only-of-type {\n        vertical-align: middle;\n    }\n\n    .dataframe tbody tr th {\n        vertical-align: top;\n    }\n\n    .dataframe thead th {\n        text-align: right;\n    }\n</style>\n<table border=\"1\" class=\"dataframe\">\n  <thead>\n    <tr style=\"text-align: right;\">\n      <th></th>\n      <th>raw_stories</th>\n      <th>sentence_tokenized</th>\n      <th>word_tokenized</th>\n    </tr>\n  </thead>\n  <tbody>\n    <tr>\n      <td>test/14843</td>\n      <td>SUMITOMO BANK AIMS AT QUICK RECOVERY FROM MERG...</td>\n      <td>[SUMITOMO BANK AIMS AT QUICK RECOVERY FROM MER...</td>\n      <td>[SUMITOMO, BANK, AIMS, AT, QUICK, RECOVERY, FR...</td>\n    </tr>\n    <tr>\n      <td>test/14852</td>\n      <td>BOND CORP STILL CONSIDERING ATLAS MINING BAIL-...</td>\n      <td>[BOND CORP STILL CONSIDERING ATLAS MINING BAIL...</td>\n      <td>[BOND, CORP, STILL, CONSIDERING, ATLAS, MINING...</td>\n    </tr>\n    <tr>\n      <td>test/14865</td>\n      <td>CRA SOLD FORREST GOLD FOR 76 MLN DLRS - WHIM C...</td>\n      <td>[CRA SOLD FORREST GOLD FOR 76 MLN DLRS - WHIM ...</td>\n      <td>[CRA, SOLD, FORREST, GOLD, FOR, 76, MLN, DLRS,...</td>\n    </tr>\n    <tr>\n      <td>test/14888</td>\n      <td>ANHEUSER-BUSCH JOINS BID FOR SAN MIGUEL\\n  Anh...</td>\n      <td>[ANHEUSER-BUSCH JOINS BID FOR SAN MIGUEL\\n  An...</td>\n      <td>[ANHEUSER-BUSCH, JOINS, BID, FOR, SAN, MIGUEL,...</td>\n    </tr>\n    <tr>\n      <td>test/14900</td>\n      <td>MONIER SAYS BRITAIN'S REDLAND MAY BID FOR IT\\n...</td>\n      <td>[MONIER SAYS BRITAIN'S REDLAND MAY BID FOR IT\\...</td>\n      <td>[MONIER, SAYS, BRITAIN, 'S, REDLAND, MAY, BID,...</td>\n    </tr>\n  </tbody>\n</table>\n</div>",
      "text/plain": "                                                  raw_stories  \\\ntest/14843  SUMITOMO BANK AIMS AT QUICK RECOVERY FROM MERG...   \ntest/14852  BOND CORP STILL CONSIDERING ATLAS MINING BAIL-...   \ntest/14865  CRA SOLD FORREST GOLD FOR 76 MLN DLRS - WHIM C...   \ntest/14888  ANHEUSER-BUSCH JOINS BID FOR SAN MIGUEL\\n  Anh...   \ntest/14900  MONIER SAYS BRITAIN'S REDLAND MAY BID FOR IT\\n...   \n\n                                           sentence_tokenized  \\\ntest/14843  [SUMITOMO BANK AIMS AT QUICK RECOVERY FROM MER...   \ntest/14852  [BOND CORP STILL CONSIDERING ATLAS MINING BAIL...   \ntest/14865  [CRA SOLD FORREST GOLD FOR 76 MLN DLRS - WHIM ...   \ntest/14888  [ANHEUSER-BUSCH JOINS BID FOR SAN MIGUEL\\n  An...   \ntest/14900  [MONIER SAYS BRITAIN'S REDLAND MAY BID FOR IT\\...   \n\n                                               word_tokenized  \ntest/14843  [SUMITOMO, BANK, AIMS, AT, QUICK, RECOVERY, FR...  \ntest/14852  [BOND, CORP, STILL, CONSIDERING, ATLAS, MINING...  \ntest/14865  [CRA, SOLD, FORREST, GOLD, FOR, 76, MLN, DLRS,...  \ntest/14888  [ANHEUSER-BUSCH, JOINS, BID, FOR, SAN, MIGUEL,...  \ntest/14900  [MONIER, SAYS, BRITAIN, 'S, REDLAND, MAY, BID,...  "
     },
     "execution_count": 22,
     "metadata": {},
     "output_type": "execute_result"
    }
   ],
   "source": [
    "reuters_acq.head()"
   ]
  },
  {
   "cell_type": "code",
   "execution_count": null,
   "metadata": {},
   "outputs": [],
   "source": []
  }
 ]
}